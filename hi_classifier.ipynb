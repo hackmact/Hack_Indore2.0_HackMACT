{
 "cells": [
  {
   "cell_type": "code",
   "execution_count": 1,
   "metadata": {},
   "outputs": [],
   "source": [
    "import pandas as pd\n",
    "import numpy as np\n",
    "import matplotlib.pyplot as plt\n",
    "\n",
    "import os\n",
    "import shutil\n",
    "import re\n",
    "import seaborn as sns\n",
    "%matplotlib inline\n",
    "%reload_ext autoreload\n",
    "%autoreload 2"
   ]
  },
  {
   "cell_type": "code",
   "execution_count": 59,
   "metadata": {},
   "outputs": [
    {
     "ename": "ModuleNotFoundError",
     "evalue": "No module named 'fastai'",
     "output_type": "error",
     "traceback": [
      "\u001b[1;31m---------------------------------------------------------------------------\u001b[0m",
      "\u001b[1;31mModuleNotFoundError\u001b[0m                       Traceback (most recent call last)",
      "\u001b[1;32m<ipython-input-59-652d4fa86852>\u001b[0m in \u001b[0;36m<module>\u001b[1;34m\u001b[0m\n\u001b[0;32m      1\u001b[0m \u001b[0mget_ipython\u001b[0m\u001b[1;33m(\u001b[0m\u001b[1;33m)\u001b[0m\u001b[1;33m.\u001b[0m\u001b[0mrun_line_magic\u001b[0m\u001b[1;33m(\u001b[0m\u001b[1;34m'config'\u001b[0m\u001b[1;33m,\u001b[0m \u001b[1;34m\"InlineBackend.figure_format = 'retina'\"\u001b[0m\u001b[1;33m)\u001b[0m\u001b[1;33m\u001b[0m\u001b[1;33m\u001b[0m\u001b[0m\n\u001b[0;32m      2\u001b[0m \u001b[1;32mimport\u001b[0m \u001b[0mrandom\u001b[0m\u001b[1;33m\u001b[0m\u001b[1;33m\u001b[0m\u001b[0m\n\u001b[1;32m----> 3\u001b[1;33m \u001b[1;32mfrom\u001b[0m \u001b[0mfastai\u001b[0m\u001b[1;33m.\u001b[0m\u001b[0mvision\u001b[0m \u001b[1;32mimport\u001b[0m \u001b[1;33m*\u001b[0m\u001b[1;33m\u001b[0m\u001b[1;33m\u001b[0m\u001b[0m\n\u001b[0m\u001b[0;32m      4\u001b[0m \u001b[1;32mfrom\u001b[0m \u001b[0mfastai\u001b[0m\u001b[1;33m.\u001b[0m\u001b[0mmetrics\u001b[0m \u001b[1;32mimport\u001b[0m \u001b[0merror_rate\u001b[0m\u001b[1;33m\u001b[0m\u001b[1;33m\u001b[0m\u001b[0m\n\u001b[0;32m      5\u001b[0m \u001b[1;32mfrom\u001b[0m \u001b[0mPathlib\u001b[0m \u001b[1;32mimport\u001b[0m \u001b[0mPath\u001b[0m\u001b[1;33m\u001b[0m\u001b[1;33m\u001b[0m\u001b[0m\n",
      "\u001b[1;31mModuleNotFoundError\u001b[0m: No module named 'fastai'"
     ]
    }
   ],
   "source": [
    "%config InlineBackend.figure_format = 'retina'\n",
    "import random\n",
    "from fastai.vision import *\n",
    "from fastai.metrics import error_rate\n",
    "from Pathlib import Path\n",
    "from glob2 import glob\n",
    "from sklearn.metrics import confusion_matrix"
   ]
  },
  {
   "cell_type": "code",
   "execution_count": 52,
   "metadata": {},
   "outputs": [],
   "source": [
    "def split_indices(folder, seed1, seed2):\n",
    "    n = len(os.listdir(folder)) - 1\n",
    "    full_set = list(range(1,n+1))\n",
    "    \n",
    "    #train indices\n",
    "    random.seed(seed1)\n",
    "    train = random.sample(list(range(1,n+1)),int(.5*n))\n",
    "    \n",
    "    #temp remaining to be split into validation and test\n",
    "    remain = list(set(full_set) - set(train))\n",
    "    \n",
    "    #validation and test set creation\n",
    "    random.seed(seed2)\n",
    "    valid = random.sample(remain,int(.5*len(remain)))\n",
    "    test = list(set(remain) - set(valid))\n",
    "    \n",
    "    return (train, valid, test)\n",
    "\n",
    "def get_names(waste_type, indices):\n",
    "    file_names = [waste_type + ' (' + str(i) + ')' + \".jpg\" for i in indices]\n",
    "    return(file_names)\n",
    "\n",
    "def move_files(source_files, destination_folder):\n",
    "    for file in source_files:\n",
    "        shutil.move(file, destination_folder)"
   ]
  },
  {
   "cell_type": "code",
   "execution_count": 54,
   "metadata": {},
   "outputs": [],
   "source": [
    "subsets = ['train', 'valid']\n",
    "waste_types = ['wet_waste', 'solid_waste']\n",
    "\n",
    "#creation of subdirectory according to ImageNet format\n",
    "for subset in subsets:\n",
    "    for waste_type in waste_types:\n",
    "        folder = os.path.join('data', subset, waste_type)\n",
    "        if not os.path.exists(os.path.join('data', 'test')):\n",
    "            os.makedirs(folder)\n",
    "if not os.path.exists(os.path.join('data', 'test')):\n",
    "    os.makedirs(os.path.join('data', 'test'))\n",
    "\n",
    "#moving of files\n",
    "for waste_type in waste_types:\n",
    "    source_folder = os.path.join(waste_type)    #stored in HackIndore not in HackIndore/data\n",
    "    train_ind, valid_ind, test_ind = split_indices(source_folder, 1, 1)\n",
    "    \n",
    "    #move source files to train\n",
    "    train_names = get_names(waste_type, train_ind)\n",
    "    train_source_files = [os.path.join(source_folder, name) for name in train_names]\n",
    "    train_dest = \"data/train/\"  + waste_type\n",
    "    move_files(train_source_files, train_dest)\n",
    "    \n",
    "    ##move source files to valid\n",
    "    valid_names = get_names(waste_type,valid_ind)\n",
    "    valid_source_files = [os.path.join(source_folder,name) for name in valid_names]\n",
    "    valid_dest = \"data/valid/\"+waste_type\n",
    "    move_files(valid_source_files,valid_dest)\n",
    "    \n",
    "    ##move source files to test\n",
    "    test_names = get_names(waste_type, test_ind)\n",
    "    test_source_files = [os.path.join(source_folder,name) for name in test_names]\n",
    "    ## I use data/test here because the images can be mixed up\n",
    "    move_files(test_source_files,\"data/test\")"
   ]
  },
  {
   "cell_type": "code",
   "execution_count": 56,
   "metadata": {},
   "outputs": [],
   "source": [
    "DIM1 = 384\n",
    "DIM2 = 512"
   ]
  },
  {
   "cell_type": "code",
   "execution_count": 57,
   "metadata": {},
   "outputs": [
    {
     "ename": "NameError",
     "evalue": "name 'Path' is not defined",
     "output_type": "error",
     "traceback": [
      "\u001b[1;31m---------------------------------------------------------------------------\u001b[0m",
      "\u001b[1;31mNameError\u001b[0m                                 Traceback (most recent call last)",
      "\u001b[1;32m<ipython-input-57-2bffad8d6274>\u001b[0m in \u001b[0;36m<module>\u001b[1;34m\u001b[0m\n\u001b[1;32m----> 1\u001b[1;33m \u001b[0mpath\u001b[0m \u001b[1;33m=\u001b[0m \u001b[0mPath\u001b[0m\u001b[1;33m(\u001b[0m\u001b[0mos\u001b[0m\u001b[1;33m.\u001b[0m\u001b[0mgetcwd\u001b[0m\u001b[1;33m(\u001b[0m\u001b[1;33m)\u001b[0m\u001b[1;33m)\u001b[0m\u001b[1;33m\u001b[0m\u001b[1;33m\u001b[0m\u001b[0m\n\u001b[0m",
      "\u001b[1;31mNameError\u001b[0m: name 'Path' is not defined"
     ]
    }
   ],
   "source": [
    "path = Path(os.getcwd())"
   ]
  },
  {
   "cell_type": "code",
   "execution_count": null,
   "metadata": {},
   "outputs": [],
   "source": []
  }
 ],
 "metadata": {
  "kernelspec": {
   "display_name": "Python 3",
   "language": "python",
   "name": "python3"
  },
  "language_info": {
   "codemirror_mode": {
    "name": "ipython",
    "version": 3
   },
   "file_extension": ".py",
   "mimetype": "text/x-python",
   "name": "python",
   "nbconvert_exporter": "python",
   "pygments_lexer": "ipython3",
   "version": "3.7.1"
  }
 },
 "nbformat": 4,
 "nbformat_minor": 2
}
